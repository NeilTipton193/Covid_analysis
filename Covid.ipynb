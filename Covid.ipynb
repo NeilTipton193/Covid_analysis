{
  "nbformat": 4,
  "nbformat_minor": 0,
  "metadata": {
    "colab": {
      "provenance": [],
      "authorship_tag": "ABX9TyNXgCryfc61bQS977x/TMC5",
      "include_colab_link": true
    },
    "kernelspec": {
      "name": "python3",
      "display_name": "Python 3"
    },
    "language_info": {
      "name": "python"
    }
  },
  "cells": [
    {
      "cell_type": "markdown",
      "metadata": {
        "id": "view-in-github",
        "colab_type": "text"
      },
      "source": [
        "<a href=\"https://colab.research.google.com/github/NeilTipton193/Covid_analysis/blob/main/Covid.ipynb\" target=\"_parent\"><img src=\"https://colab.research.google.com/assets/colab-badge.svg\" alt=\"Open In Colab\"/></a>"
      ]
    },
    {
      "cell_type": "code",
      "execution_count": 36,
      "metadata": {
        "id": "Sh2FJOogitYv"
      },
      "outputs": [],
      "source": [
        "import pandas as pd\n",
        "import os"
      ]
    },
    {
      "cell_type": "code",
      "source": [
        "pd.options.display.max_columns = None"
      ],
      "metadata": {
        "id": "nnZZ305hE4ij"
      },
      "execution_count": 37,
      "outputs": []
    },
    {
      "cell_type": "markdown",
      "source": [
        "\n",
        "*   sex: 1 for female and 2 for male.\n",
        "*   age: of the patient.\n",
        "*   classification: covid test findings. Values 1-3 mean that the patient was diagnosed with covid in different\n",
        "degrees. 4 or higher means that the patient is not a carrier of covid or that the test is inconclusive.\n",
        "*   patient type: type of care the patient received in the unit. 1 for returned \n",
        "home and 2 for hospitalization.\n",
        "*   pneumonia: whether the patient already have air sacs inflammation or not.\n",
        "*   pregnancy: whether the patient is pregnant or not.\n",
        "*   diabetes: whether the patient has diabetes or not.\n",
        "*   copd: Indicates whether the patient has Chronic obstructive pulmonary disease or not.\n",
        "*   asthma: whether the patient has asthma or not.\n",
        "*   inmsupr: whether the patient is immunosuppressed or not.\n",
        "*   hypertension: whether the patient has hypertension or not.\n",
        "*   cardiovascular: whether the patient has heart or blood vessels related disease.\n",
        "*   renal chronic: whether the patient has chronic renal disease or not.\n",
        "*   other disease: whether the patient has other disease or not.\n",
        "*   obesity: whether the patient is obese or not.\n",
        "*   tobacco: whether the patient is a tobacco user.\n",
        "*   usmr: Indicates whether the patient treated medical units of the first, second or third level.\n",
        "*   medical unit: type of institution of the National Health System that provided the care.\n",
        "*   intubed: whether the patient was connected to the ventilator.\n",
        "*   icu: Indicates whether the patient had been admitted to an Intensive Care Unit.\n",
        "*   date died: If the patient died indicate the date of death, and 9999-99-99 otherwise."
      ],
      "metadata": {
        "id": "aeyQ5F1xYAJB"
      }
    },
    {
      "cell_type": "code",
      "source": [
        "df = pd.read_csv('/content/Covid Data.csv')\n",
        "\n",
        "#See \"https://www.kaggle.com/datasets/meirnizri/covid19-dataset?resource=download\" for data dictionary.\n",
        "\n",
        "df.head(10)"
      ],
      "metadata": {
        "id": "obgRqwTFiutZ",
        "colab": {
          "base_uri": "https://localhost:8080/",
          "height": 514
        },
        "outputId": "3de909a6-df0f-4c32-cdd4-4b08413cbdf1"
      },
      "execution_count": 38,
      "outputs": [
        {
          "output_type": "execute_result",
          "data": {
            "text/plain": [
              "   USMER  MEDICAL_UNIT  SEX  PATIENT_TYPE   DATE_DIED  INTUBED  PNEUMONIA  \\\n",
              "0      2             1    1             1  03/05/2020       97          1   \n",
              "1      2             1    2             1  03/06/2020       97          1   \n",
              "2      2             1    2             2  09/06/2020        1          2   \n",
              "3      2             1    1             1  12/06/2020       97          2   \n",
              "4      2             1    2             1  21/06/2020       97          2   \n",
              "5      2             1    1             2  9999-99-99        2          1   \n",
              "6      2             1    1             1  9999-99-99       97          2   \n",
              "7      2             1    1             1  9999-99-99       97          1   \n",
              "8      2             1    1             2  9999-99-99        2          2   \n",
              "9      2             1    1             2  9999-99-99        2          2   \n",
              "\n",
              "   AGE  PREGNANT  DIABETES  COPD  ASTHMA  INMSUPR  HIPERTENSION  \\\n",
              "0   65         2         2     2       2        2             1   \n",
              "1   72        97         2     2       2        2             1   \n",
              "2   55        97         1     2       2        2             2   \n",
              "3   53         2         2     2       2        2             2   \n",
              "4   68        97         1     2       2        2             1   \n",
              "5   40         2         2     2       2        2             2   \n",
              "6   64         2         2     2       2        2             2   \n",
              "7   64         2         1     2       2        1             1   \n",
              "8   37         2         1     2       2        2             1   \n",
              "9   25         2         2     2       2        2             2   \n",
              "\n",
              "   OTHER_DISEASE  CARDIOVASCULAR  OBESITY  RENAL_CHRONIC  TOBACCO  \\\n",
              "0              2               2        2              2        2   \n",
              "1              2               2        1              1        2   \n",
              "2              2               2        2              2        2   \n",
              "3              2               2        2              2        2   \n",
              "4              2               2        2              2        2   \n",
              "5              2               2        2              2        2   \n",
              "6              2               2        2              2        2   \n",
              "7              2               2        2              1        2   \n",
              "8              2               2        1              2        2   \n",
              "9              2               2        2              2        2   \n",
              "\n",
              "   CLASIFFICATION_FINAL  ICU  \n",
              "0                     3   97  \n",
              "1                     5   97  \n",
              "2                     3    2  \n",
              "3                     7   97  \n",
              "4                     3   97  \n",
              "5                     3    2  \n",
              "6                     3   97  \n",
              "7                     3   97  \n",
              "8                     3    2  \n",
              "9                     3    2  "
            ],
            "text/html": [
              "\n",
              "  <div id=\"df-5da8d904-ef9d-4d19-9a7a-ef315abc1a34\">\n",
              "    <div class=\"colab-df-container\">\n",
              "      <div>\n",
              "<style scoped>\n",
              "    .dataframe tbody tr th:only-of-type {\n",
              "        vertical-align: middle;\n",
              "    }\n",
              "\n",
              "    .dataframe tbody tr th {\n",
              "        vertical-align: top;\n",
              "    }\n",
              "\n",
              "    .dataframe thead th {\n",
              "        text-align: right;\n",
              "    }\n",
              "</style>\n",
              "<table border=\"1\" class=\"dataframe\">\n",
              "  <thead>\n",
              "    <tr style=\"text-align: right;\">\n",
              "      <th></th>\n",
              "      <th>USMER</th>\n",
              "      <th>MEDICAL_UNIT</th>\n",
              "      <th>SEX</th>\n",
              "      <th>PATIENT_TYPE</th>\n",
              "      <th>DATE_DIED</th>\n",
              "      <th>INTUBED</th>\n",
              "      <th>PNEUMONIA</th>\n",
              "      <th>AGE</th>\n",
              "      <th>PREGNANT</th>\n",
              "      <th>DIABETES</th>\n",
              "      <th>COPD</th>\n",
              "      <th>ASTHMA</th>\n",
              "      <th>INMSUPR</th>\n",
              "      <th>HIPERTENSION</th>\n",
              "      <th>OTHER_DISEASE</th>\n",
              "      <th>CARDIOVASCULAR</th>\n",
              "      <th>OBESITY</th>\n",
              "      <th>RENAL_CHRONIC</th>\n",
              "      <th>TOBACCO</th>\n",
              "      <th>CLASIFFICATION_FINAL</th>\n",
              "      <th>ICU</th>\n",
              "    </tr>\n",
              "  </thead>\n",
              "  <tbody>\n",
              "    <tr>\n",
              "      <th>0</th>\n",
              "      <td>2</td>\n",
              "      <td>1</td>\n",
              "      <td>1</td>\n",
              "      <td>1</td>\n",
              "      <td>03/05/2020</td>\n",
              "      <td>97</td>\n",
              "      <td>1</td>\n",
              "      <td>65</td>\n",
              "      <td>2</td>\n",
              "      <td>2</td>\n",
              "      <td>2</td>\n",
              "      <td>2</td>\n",
              "      <td>2</td>\n",
              "      <td>1</td>\n",
              "      <td>2</td>\n",
              "      <td>2</td>\n",
              "      <td>2</td>\n",
              "      <td>2</td>\n",
              "      <td>2</td>\n",
              "      <td>3</td>\n",
              "      <td>97</td>\n",
              "    </tr>\n",
              "    <tr>\n",
              "      <th>1</th>\n",
              "      <td>2</td>\n",
              "      <td>1</td>\n",
              "      <td>2</td>\n",
              "      <td>1</td>\n",
              "      <td>03/06/2020</td>\n",
              "      <td>97</td>\n",
              "      <td>1</td>\n",
              "      <td>72</td>\n",
              "      <td>97</td>\n",
              "      <td>2</td>\n",
              "      <td>2</td>\n",
              "      <td>2</td>\n",
              "      <td>2</td>\n",
              "      <td>1</td>\n",
              "      <td>2</td>\n",
              "      <td>2</td>\n",
              "      <td>1</td>\n",
              "      <td>1</td>\n",
              "      <td>2</td>\n",
              "      <td>5</td>\n",
              "      <td>97</td>\n",
              "    </tr>\n",
              "    <tr>\n",
              "      <th>2</th>\n",
              "      <td>2</td>\n",
              "      <td>1</td>\n",
              "      <td>2</td>\n",
              "      <td>2</td>\n",
              "      <td>09/06/2020</td>\n",
              "      <td>1</td>\n",
              "      <td>2</td>\n",
              "      <td>55</td>\n",
              "      <td>97</td>\n",
              "      <td>1</td>\n",
              "      <td>2</td>\n",
              "      <td>2</td>\n",
              "      <td>2</td>\n",
              "      <td>2</td>\n",
              "      <td>2</td>\n",
              "      <td>2</td>\n",
              "      <td>2</td>\n",
              "      <td>2</td>\n",
              "      <td>2</td>\n",
              "      <td>3</td>\n",
              "      <td>2</td>\n",
              "    </tr>\n",
              "    <tr>\n",
              "      <th>3</th>\n",
              "      <td>2</td>\n",
              "      <td>1</td>\n",
              "      <td>1</td>\n",
              "      <td>1</td>\n",
              "      <td>12/06/2020</td>\n",
              "      <td>97</td>\n",
              "      <td>2</td>\n",
              "      <td>53</td>\n",
              "      <td>2</td>\n",
              "      <td>2</td>\n",
              "      <td>2</td>\n",
              "      <td>2</td>\n",
              "      <td>2</td>\n",
              "      <td>2</td>\n",
              "      <td>2</td>\n",
              "      <td>2</td>\n",
              "      <td>2</td>\n",
              "      <td>2</td>\n",
              "      <td>2</td>\n",
              "      <td>7</td>\n",
              "      <td>97</td>\n",
              "    </tr>\n",
              "    <tr>\n",
              "      <th>4</th>\n",
              "      <td>2</td>\n",
              "      <td>1</td>\n",
              "      <td>2</td>\n",
              "      <td>1</td>\n",
              "      <td>21/06/2020</td>\n",
              "      <td>97</td>\n",
              "      <td>2</td>\n",
              "      <td>68</td>\n",
              "      <td>97</td>\n",
              "      <td>1</td>\n",
              "      <td>2</td>\n",
              "      <td>2</td>\n",
              "      <td>2</td>\n",
              "      <td>1</td>\n",
              "      <td>2</td>\n",
              "      <td>2</td>\n",
              "      <td>2</td>\n",
              "      <td>2</td>\n",
              "      <td>2</td>\n",
              "      <td>3</td>\n",
              "      <td>97</td>\n",
              "    </tr>\n",
              "    <tr>\n",
              "      <th>5</th>\n",
              "      <td>2</td>\n",
              "      <td>1</td>\n",
              "      <td>1</td>\n",
              "      <td>2</td>\n",
              "      <td>9999-99-99</td>\n",
              "      <td>2</td>\n",
              "      <td>1</td>\n",
              "      <td>40</td>\n",
              "      <td>2</td>\n",
              "      <td>2</td>\n",
              "      <td>2</td>\n",
              "      <td>2</td>\n",
              "      <td>2</td>\n",
              "      <td>2</td>\n",
              "      <td>2</td>\n",
              "      <td>2</td>\n",
              "      <td>2</td>\n",
              "      <td>2</td>\n",
              "      <td>2</td>\n",
              "      <td>3</td>\n",
              "      <td>2</td>\n",
              "    </tr>\n",
              "    <tr>\n",
              "      <th>6</th>\n",
              "      <td>2</td>\n",
              "      <td>1</td>\n",
              "      <td>1</td>\n",
              "      <td>1</td>\n",
              "      <td>9999-99-99</td>\n",
              "      <td>97</td>\n",
              "      <td>2</td>\n",
              "      <td>64</td>\n",
              "      <td>2</td>\n",
              "      <td>2</td>\n",
              "      <td>2</td>\n",
              "      <td>2</td>\n",
              "      <td>2</td>\n",
              "      <td>2</td>\n",
              "      <td>2</td>\n",
              "      <td>2</td>\n",
              "      <td>2</td>\n",
              "      <td>2</td>\n",
              "      <td>2</td>\n",
              "      <td>3</td>\n",
              "      <td>97</td>\n",
              "    </tr>\n",
              "    <tr>\n",
              "      <th>7</th>\n",
              "      <td>2</td>\n",
              "      <td>1</td>\n",
              "      <td>1</td>\n",
              "      <td>1</td>\n",
              "      <td>9999-99-99</td>\n",
              "      <td>97</td>\n",
              "      <td>1</td>\n",
              "      <td>64</td>\n",
              "      <td>2</td>\n",
              "      <td>1</td>\n",
              "      <td>2</td>\n",
              "      <td>2</td>\n",
              "      <td>1</td>\n",
              "      <td>1</td>\n",
              "      <td>2</td>\n",
              "      <td>2</td>\n",
              "      <td>2</td>\n",
              "      <td>1</td>\n",
              "      <td>2</td>\n",
              "      <td>3</td>\n",
              "      <td>97</td>\n",
              "    </tr>\n",
              "    <tr>\n",
              "      <th>8</th>\n",
              "      <td>2</td>\n",
              "      <td>1</td>\n",
              "      <td>1</td>\n",
              "      <td>2</td>\n",
              "      <td>9999-99-99</td>\n",
              "      <td>2</td>\n",
              "      <td>2</td>\n",
              "      <td>37</td>\n",
              "      <td>2</td>\n",
              "      <td>1</td>\n",
              "      <td>2</td>\n",
              "      <td>2</td>\n",
              "      <td>2</td>\n",
              "      <td>1</td>\n",
              "      <td>2</td>\n",
              "      <td>2</td>\n",
              "      <td>1</td>\n",
              "      <td>2</td>\n",
              "      <td>2</td>\n",
              "      <td>3</td>\n",
              "      <td>2</td>\n",
              "    </tr>\n",
              "    <tr>\n",
              "      <th>9</th>\n",
              "      <td>2</td>\n",
              "      <td>1</td>\n",
              "      <td>1</td>\n",
              "      <td>2</td>\n",
              "      <td>9999-99-99</td>\n",
              "      <td>2</td>\n",
              "      <td>2</td>\n",
              "      <td>25</td>\n",
              "      <td>2</td>\n",
              "      <td>2</td>\n",
              "      <td>2</td>\n",
              "      <td>2</td>\n",
              "      <td>2</td>\n",
              "      <td>2</td>\n",
              "      <td>2</td>\n",
              "      <td>2</td>\n",
              "      <td>2</td>\n",
              "      <td>2</td>\n",
              "      <td>2</td>\n",
              "      <td>3</td>\n",
              "      <td>2</td>\n",
              "    </tr>\n",
              "  </tbody>\n",
              "</table>\n",
              "</div>\n",
              "      <button class=\"colab-df-convert\" onclick=\"convertToInteractive('df-5da8d904-ef9d-4d19-9a7a-ef315abc1a34')\"\n",
              "              title=\"Convert this dataframe to an interactive table.\"\n",
              "              style=\"display:none;\">\n",
              "        \n",
              "  <svg xmlns=\"http://www.w3.org/2000/svg\" height=\"24px\"viewBox=\"0 0 24 24\"\n",
              "       width=\"24px\">\n",
              "    <path d=\"M0 0h24v24H0V0z\" fill=\"none\"/>\n",
              "    <path d=\"M18.56 5.44l.94 2.06.94-2.06 2.06-.94-2.06-.94-.94-2.06-.94 2.06-2.06.94zm-11 1L8.5 8.5l.94-2.06 2.06-.94-2.06-.94L8.5 2.5l-.94 2.06-2.06.94zm10 10l.94 2.06.94-2.06 2.06-.94-2.06-.94-.94-2.06-.94 2.06-2.06.94z\"/><path d=\"M17.41 7.96l-1.37-1.37c-.4-.4-.92-.59-1.43-.59-.52 0-1.04.2-1.43.59L10.3 9.45l-7.72 7.72c-.78.78-.78 2.05 0 2.83L4 21.41c.39.39.9.59 1.41.59.51 0 1.02-.2 1.41-.59l7.78-7.78 2.81-2.81c.8-.78.8-2.07 0-2.86zM5.41 20L4 18.59l7.72-7.72 1.47 1.35L5.41 20z\"/>\n",
              "  </svg>\n",
              "      </button>\n",
              "      \n",
              "  <style>\n",
              "    .colab-df-container {\n",
              "      display:flex;\n",
              "      flex-wrap:wrap;\n",
              "      gap: 12px;\n",
              "    }\n",
              "\n",
              "    .colab-df-convert {\n",
              "      background-color: #E8F0FE;\n",
              "      border: none;\n",
              "      border-radius: 50%;\n",
              "      cursor: pointer;\n",
              "      display: none;\n",
              "      fill: #1967D2;\n",
              "      height: 32px;\n",
              "      padding: 0 0 0 0;\n",
              "      width: 32px;\n",
              "    }\n",
              "\n",
              "    .colab-df-convert:hover {\n",
              "      background-color: #E2EBFA;\n",
              "      box-shadow: 0px 1px 2px rgba(60, 64, 67, 0.3), 0px 1px 3px 1px rgba(60, 64, 67, 0.15);\n",
              "      fill: #174EA6;\n",
              "    }\n",
              "\n",
              "    [theme=dark] .colab-df-convert {\n",
              "      background-color: #3B4455;\n",
              "      fill: #D2E3FC;\n",
              "    }\n",
              "\n",
              "    [theme=dark] .colab-df-convert:hover {\n",
              "      background-color: #434B5C;\n",
              "      box-shadow: 0px 1px 3px 1px rgba(0, 0, 0, 0.15);\n",
              "      filter: drop-shadow(0px 1px 2px rgba(0, 0, 0, 0.3));\n",
              "      fill: #FFFFFF;\n",
              "    }\n",
              "  </style>\n",
              "\n",
              "      <script>\n",
              "        const buttonEl =\n",
              "          document.querySelector('#df-5da8d904-ef9d-4d19-9a7a-ef315abc1a34 button.colab-df-convert');\n",
              "        buttonEl.style.display =\n",
              "          google.colab.kernel.accessAllowed ? 'block' : 'none';\n",
              "\n",
              "        async function convertToInteractive(key) {\n",
              "          const element = document.querySelector('#df-5da8d904-ef9d-4d19-9a7a-ef315abc1a34');\n",
              "          const dataTable =\n",
              "            await google.colab.kernel.invokeFunction('convertToInteractive',\n",
              "                                                     [key], {});\n",
              "          if (!dataTable) return;\n",
              "\n",
              "          const docLinkHtml = 'Like what you see? Visit the ' +\n",
              "            '<a target=\"_blank\" href=https://colab.research.google.com/notebooks/data_table.ipynb>data table notebook</a>'\n",
              "            + ' to learn more about interactive tables.';\n",
              "          element.innerHTML = '';\n",
              "          dataTable['output_type'] = 'display_data';\n",
              "          await google.colab.output.renderOutput(dataTable, element);\n",
              "          const docLink = document.createElement('div');\n",
              "          docLink.innerHTML = docLinkHtml;\n",
              "          element.appendChild(docLink);\n",
              "        }\n",
              "      </script>\n",
              "    </div>\n",
              "  </div>\n",
              "  "
            ]
          },
          "metadata": {},
          "execution_count": 38
        }
      ]
    },
    {
      "cell_type": "markdown",
      "source": [
        "# New Section"
      ],
      "metadata": {
        "id": "P6XbYPDV_uM5"
      }
    },
    {
      "cell_type": "code",
      "source": [
        "df.info()"
      ],
      "metadata": {
        "id": "-rbycWqTiurG",
        "colab": {
          "base_uri": "https://localhost:8080/"
        },
        "outputId": "802b3e39-2fb9-4a67-85ad-9b89bad8b104"
      },
      "execution_count": 39,
      "outputs": [
        {
          "output_type": "stream",
          "name": "stdout",
          "text": [
            "<class 'pandas.core.frame.DataFrame'>\n",
            "RangeIndex: 1048575 entries, 0 to 1048574\n",
            "Data columns (total 21 columns):\n",
            " #   Column                Non-Null Count    Dtype \n",
            "---  ------                --------------    ----- \n",
            " 0   USMER                 1048575 non-null  int64 \n",
            " 1   MEDICAL_UNIT          1048575 non-null  int64 \n",
            " 2   SEX                   1048575 non-null  int64 \n",
            " 3   PATIENT_TYPE          1048575 non-null  int64 \n",
            " 4   DATE_DIED             1048575 non-null  object\n",
            " 5   INTUBED               1048575 non-null  int64 \n",
            " 6   PNEUMONIA             1048575 non-null  int64 \n",
            " 7   AGE                   1048575 non-null  int64 \n",
            " 8   PREGNANT              1048575 non-null  int64 \n",
            " 9   DIABETES              1048575 non-null  int64 \n",
            " 10  COPD                  1048575 non-null  int64 \n",
            " 11  ASTHMA                1048575 non-null  int64 \n",
            " 12  INMSUPR               1048575 non-null  int64 \n",
            " 13  HIPERTENSION          1048575 non-null  int64 \n",
            " 14  OTHER_DISEASE         1048575 non-null  int64 \n",
            " 15  CARDIOVASCULAR        1048575 non-null  int64 \n",
            " 16  OBESITY               1048575 non-null  int64 \n",
            " 17  RENAL_CHRONIC         1048575 non-null  int64 \n",
            " 18  TOBACCO               1048575 non-null  int64 \n",
            " 19  CLASIFFICATION_FINAL  1048575 non-null  int64 \n",
            " 20  ICU                   1048575 non-null  int64 \n",
            "dtypes: int64(20), object(1)\n",
            "memory usage: 168.0+ MB\n"
          ]
        }
      ]
    },
    {
      "cell_type": "code",
      "source": [
        "#Remove rows where patient was not a carrier COVID or the test was inconclusive\n",
        "df = df[df.CLASIFFICATION_FINAL < 4]\n",
        "print(df.shape)"
      ],
      "metadata": {
        "colab": {
          "base_uri": "https://localhost:8080/"
        },
        "id": "fmLCHxioJIsc",
        "outputId": "e0e32ae8-19d4-4162-d2b0-bfa1736830f0"
      },
      "execution_count": 40,
      "outputs": [
        {
          "output_type": "stream",
          "name": "stdout",
          "text": [
            "(391979, 21)\n"
          ]
        }
      ]
    },
    {
      "cell_type": "code",
      "source": [
        "#Check missing values in each column \n",
        "for i in range(len(df.columns)):\n",
        "    print(f\"\\nThe value counts for {df.columns[i]} are: \\n\")\n",
        "    display(df[df.columns[i]].value_counts())"
      ],
      "metadata": {
        "colab": {
          "base_uri": "https://localhost:8080/",
          "height": 1000
        },
        "id": "bhyhoo6GJxDJ",
        "outputId": "7c38d43d-2c07-4024-a64b-cd64875078b2"
      },
      "execution_count": 41,
      "outputs": [
        {
          "output_type": "stream",
          "name": "stdout",
          "text": [
            "\n",
            "The value counts for USMER are: \n",
            "\n"
          ]
        },
        {
          "output_type": "display_data",
          "data": {
            "text/plain": [
              "2    244853\n",
              "1    147126\n",
              "Name: USMER, dtype: int64"
            ]
          },
          "metadata": {}
        },
        {
          "output_type": "stream",
          "name": "stdout",
          "text": [
            "\n",
            "The value counts for MEDICAL_UNIT are: \n",
            "\n"
          ]
        },
        {
          "output_type": "display_data",
          "data": {
            "text/plain": [
              "12    208226\n",
              "4     126649\n",
              "6      17688\n",
              "9      14585\n",
              "3       8631\n",
              "8       4994\n",
              "10      3807\n",
              "11      3735\n",
              "5       2853\n",
              "7        414\n",
              "13       345\n",
              "1         40\n",
              "2         12\n",
              "Name: MEDICAL_UNIT, dtype: int64"
            ]
          },
          "metadata": {}
        },
        {
          "output_type": "stream",
          "name": "stdout",
          "text": [
            "\n",
            "The value counts for SEX are: \n",
            "\n"
          ]
        },
        {
          "output_type": "display_data",
          "data": {
            "text/plain": [
              "2    209489\n",
              "1    182490\n",
              "Name: SEX, dtype: int64"
            ]
          },
          "metadata": {}
        },
        {
          "output_type": "stream",
          "name": "stdout",
          "text": [
            "\n",
            "The value counts for PATIENT_TYPE are: \n",
            "\n"
          ]
        },
        {
          "output_type": "display_data",
          "data": {
            "text/plain": [
              "1    280687\n",
              "2    111292\n",
              "Name: PATIENT_TYPE, dtype: int64"
            ]
          },
          "metadata": {}
        },
        {
          "output_type": "stream",
          "name": "stdout",
          "text": [
            "\n",
            "The value counts for DATE_DIED are: \n",
            "\n"
          ]
        },
        {
          "output_type": "display_data",
          "data": {
            "text/plain": [
              "9999-99-99    337743\n",
              "13/07/2020       787\n",
              "06/07/2020       773\n",
              "16/07/2020       761\n",
              "07/07/2020       758\n",
              "               ...  \n",
              "20/02/2021         1\n",
              "18/02/2021         1\n",
              "11/02/2021         1\n",
              "10/02/2021         1\n",
              "17/04/2021         1\n",
              "Name: DATE_DIED, Length: 288, dtype: int64"
            ]
          },
          "metadata": {}
        },
        {
          "output_type": "stream",
          "name": "stdout",
          "text": [
            "\n",
            "The value counts for INTUBED are: \n",
            "\n"
          ]
        },
        {
          "output_type": "display_data",
          "data": {
            "text/plain": [
              "97    280687\n",
              "2      86109\n",
              "1      23670\n",
              "99      1513\n",
              "Name: INTUBED, dtype: int64"
            ]
          },
          "metadata": {}
        },
        {
          "output_type": "stream",
          "name": "stdout",
          "text": [
            "\n",
            "The value counts for PNEUMONIA are: \n",
            "\n"
          ]
        },
        {
          "output_type": "display_data",
          "data": {
            "text/plain": [
              "2     305934\n",
              "1      86041\n",
              "99         4\n",
              "Name: PNEUMONIA, dtype: int64"
            ]
          },
          "metadata": {}
        },
        {
          "output_type": "stream",
          "name": "stdout",
          "text": [
            "\n",
            "The value counts for AGE are: \n",
            "\n"
          ]
        },
        {
          "output_type": "display_data",
          "data": {
            "text/plain": [
              "37     9019\n",
              "45     8925\n",
              "40     8909\n",
              "30     8899\n",
              "46     8891\n",
              "       ... \n",
              "119       1\n",
              "116       1\n",
              "104       1\n",
              "120       1\n",
              "106       1\n",
              "Name: AGE, Length: 110, dtype: int64"
            ]
          },
          "metadata": {}
        },
        {
          "output_type": "stream",
          "name": "stdout",
          "text": [
            "\n",
            "The value counts for PREGNANT are: \n",
            "\n"
          ]
        },
        {
          "output_type": "display_data",
          "data": {
            "text/plain": [
              "97    209489\n",
              "2     178353\n",
              "1       2754\n",
              "98      1383\n",
              "Name: PREGNANT, dtype: int64"
            ]
          },
          "metadata": {}
        },
        {
          "output_type": "stream",
          "name": "stdout",
          "text": [
            "\n",
            "The value counts for DIABETES are: \n",
            "\n"
          ]
        },
        {
          "output_type": "display_data",
          "data": {
            "text/plain": [
              "2     328425\n",
              "1      62114\n",
              "98      1440\n",
              "Name: DIABETES, dtype: int64"
            ]
          },
          "metadata": {}
        },
        {
          "output_type": "stream",
          "name": "stdout",
          "text": [
            "\n",
            "The value counts for COPD are: \n",
            "\n"
          ]
        },
        {
          "output_type": "display_data",
          "data": {
            "text/plain": [
              "2     384535\n",
              "1       6131\n",
              "98      1313\n",
              "Name: COPD, dtype: int64"
            ]
          },
          "metadata": {}
        },
        {
          "output_type": "stream",
          "name": "stdout",
          "text": [
            "\n",
            "The value counts for ASTHMA are: \n",
            "\n"
          ]
        },
        {
          "output_type": "display_data",
          "data": {
            "text/plain": [
              "2     380258\n",
              "1      10412\n",
              "98      1309\n",
              "Name: ASTHMA, dtype: int64"
            ]
          },
          "metadata": {}
        },
        {
          "output_type": "stream",
          "name": "stdout",
          "text": [
            "\n",
            "The value counts for INMSUPR are: \n",
            "\n"
          ]
        },
        {
          "output_type": "display_data",
          "data": {
            "text/plain": [
              "2     385757\n",
              "1       4773\n",
              "98      1449\n",
              "Name: INMSUPR, dtype: int64"
            ]
          },
          "metadata": {}
        },
        {
          "output_type": "stream",
          "name": "stdout",
          "text": [
            "\n",
            "The value counts for HIPERTENSION are: \n",
            "\n"
          ]
        },
        {
          "output_type": "display_data",
          "data": {
            "text/plain": [
              "2     313864\n",
              "1      76727\n",
              "98      1388\n",
              "Name: HIPERTENSION, dtype: int64"
            ]
          },
          "metadata": {}
        },
        {
          "output_type": "stream",
          "name": "stdout",
          "text": [
            "\n",
            "The value counts for OTHER_DISEASE are: \n",
            "\n"
          ]
        },
        {
          "output_type": "display_data",
          "data": {
            "text/plain": [
              "2     379825\n",
              "1      10018\n",
              "98      2136\n",
              "Name: OTHER_DISEASE, dtype: int64"
            ]
          },
          "metadata": {}
        },
        {
          "output_type": "stream",
          "name": "stdout",
          "text": [
            "\n",
            "The value counts for CARDIOVASCULAR are: \n",
            "\n"
          ]
        },
        {
          "output_type": "display_data",
          "data": {
            "text/plain": [
              "2     382082\n",
              "1       8506\n",
              "98      1391\n",
              "Name: CARDIOVASCULAR, dtype: int64"
            ]
          },
          "metadata": {}
        },
        {
          "output_type": "stream",
          "name": "stdout",
          "text": [
            "\n",
            "The value counts for OBESITY are: \n",
            "\n"
          ]
        },
        {
          "output_type": "display_data",
          "data": {
            "text/plain": [
              "2     317852\n",
              "1      72774\n",
              "98      1353\n",
              "Name: OBESITY, dtype: int64"
            ]
          },
          "metadata": {}
        },
        {
          "output_type": "stream",
          "name": "stdout",
          "text": [
            "\n",
            "The value counts for RENAL_CHRONIC are: \n",
            "\n"
          ]
        },
        {
          "output_type": "display_data",
          "data": {
            "text/plain": [
              "2     382677\n",
              "1       7952\n",
              "98      1350\n",
              "Name: RENAL_CHRONIC, dtype: int64"
            ]
          },
          "metadata": {}
        },
        {
          "output_type": "stream",
          "name": "stdout",
          "text": [
            "\n",
            "The value counts for TOBACCO are: \n",
            "\n"
          ]
        },
        {
          "output_type": "display_data",
          "data": {
            "text/plain": [
              "2     361798\n",
              "1      28747\n",
              "98      1434\n",
              "Name: TOBACCO, dtype: int64"
            ]
          },
          "metadata": {}
        },
        {
          "output_type": "stream",
          "name": "stdout",
          "text": [
            "\n",
            "The value counts for CLASIFFICATION_FINAL are: \n",
            "\n"
          ]
        },
        {
          "output_type": "display_data",
          "data": {
            "text/plain": [
              "3    381527\n",
              "1      8601\n",
              "2      1851\n",
              "Name: CLASIFFICATION_FINAL, dtype: int64"
            ]
          },
          "metadata": {}
        },
        {
          "output_type": "stream",
          "name": "stdout",
          "text": [
            "\n",
            "The value counts for ICU are: \n",
            "\n"
          ]
        },
        {
          "output_type": "display_data",
          "data": {
            "text/plain": [
              "97    280687\n",
              "2      99322\n",
              "1      10449\n",
              "99      1521\n",
              "Name: ICU, dtype: int64"
            ]
          },
          "metadata": {}
        }
      ]
    },
    {
      "cell_type": "code",
      "source": [
        "#INTUBED, PREGNANT, and ICU are missing over half their data\n",
        "## Others have fewer missing values, so we can simply drop the rows with those\n",
        "miss_val_columns = ['PNEUMONIA', 'DIABETES', 'COPD', 'ASTHMA', 'INMSUPR', \n",
        "                'HIPERTENSION', 'OTHER_DISEASE', 'CARDIOVASCULAR', 'OBESITY',\n",
        "               'RENAL_CHRONIC', 'TOBACCO']\n",
        "#Drop with values other than the values of interest\n",
        "\n",
        "for i in range(len(miss_val_columns)):\n",
        "  df = df[(df[miss_val_columns[i]]==1) | (df[miss_val_columns[i]]==2)]\n",
        "\n",
        "\n",
        "df.shape"
      ],
      "metadata": {
        "id": "Nj5qTeRCN2o7",
        "colab": {
          "base_uri": "https://localhost:8080/"
        },
        "outputId": "535417b2-62d3-47e8-b3e7-b4ece384d965"
      },
      "execution_count": 42,
      "outputs": [
        {
          "output_type": "execute_result",
          "data": {
            "text/plain": [
              "(388878, 21)"
            ]
          },
          "metadata": {},
          "execution_count": 42
        }
      ]
    },
    {
      "cell_type": "code",
      "source": [
        "# Drop INTUBED and ICU columns\n",
        "df.drop(['INTUBED', 'ICU'], axis=1, inplace=True)"
      ],
      "metadata": {
        "id": "SmR59kUytKbb"
      },
      "execution_count": 43,
      "outputs": []
    },
    {
      "cell_type": "code",
      "source": [
        "print(\"the male values for PREGNANT are: /n\")\n",
        "df[df.SEX==2].PREGNANT.unique()\n",
        "print(\"the female values for PREGNANT are: /n\")\n",
        "df[df.SEX==1].PREGNANT.unique()"
      ],
      "metadata": {
        "colab": {
          "base_uri": "https://localhost:8080/"
        },
        "id": "aWyWJIVPvFhV",
        "outputId": "128dda14-3a64-428b-e15a-6e91d56cee56"
      },
      "execution_count": 44,
      "outputs": [
        {
          "output_type": "stream",
          "name": "stdout",
          "text": [
            "the male values for PREGNANT are: /n\n",
            "the female values for PREGNANT are: /n\n"
          ]
        },
        {
          "output_type": "execute_result",
          "data": {
            "text/plain": [
              "array([ 2,  1, 98])"
            ]
          },
          "metadata": {},
          "execution_count": 44
        }
      ]
    },
    {
      "cell_type": "code",
      "source": [
        "#Assume 97 are males that are not pregnant\n",
        "df.PREGNANT[df.PREGNANT == 97] = 2\n",
        "\n",
        "# Remove the rows that don't equal 1 or 2\n",
        "## This removes values of '98' for females\n",
        "df = df[(df.PREGNANT == 1) | (df.PREGNANT == 2)]"
      ],
      "metadata": {
        "id": "od-cWKxS5IX3",
        "colab": {
          "base_uri": "https://localhost:8080/"
        },
        "outputId": "bf29c351-11e6-45e1-f267-c5ee2cbbc20f"
      },
      "execution_count": 45,
      "outputs": [
        {
          "output_type": "stream",
          "name": "stderr",
          "text": [
            "<ipython-input-45-3c1792126ed2>:2: SettingWithCopyWarning: \n",
            "A value is trying to be set on a copy of a slice from a DataFrame\n",
            "\n",
            "See the caveats in the documentation: https://pandas.pydata.org/pandas-docs/stable/user_guide/indexing.html#returning-a-view-versus-a-copy\n",
            "  df.PREGNANT[df.PREGNANT == 97] = 2\n"
          ]
        }
      ]
    },
    {
      "cell_type": "code",
      "source": [
        "#Create target based on DATE_DIED\n",
        "\n",
        "df['DEATH'] = [0 if row=='9999-99-99' else 1 for row in df['DATE_DIED']]"
      ],
      "metadata": {
        "id": "tWIAdNXnqUrP"
      },
      "execution_count": 46,
      "outputs": []
    },
    {
      "cell_type": "code",
      "source": [
        "df.drop('DATE_DIED', axis=1, inplace=True)"
      ],
      "metadata": {
        "id": "l1WGYmfWulCf"
      },
      "execution_count": 47,
      "outputs": []
    },
    {
      "cell_type": "code",
      "source": [
        "#Preproccessing \n",
        "df['DEATH'].value_counts()"
      ],
      "metadata": {
        "id": "2d0K4Gk6qUpa",
        "colab": {
          "base_uri": "https://localhost:8080/"
        },
        "outputId": "4a2e8dfa-366c-4128-da17-920ca6b9def3"
      },
      "execution_count": 48,
      "outputs": [
        {
          "output_type": "execute_result",
          "data": {
            "text/plain": [
              "0    334274\n",
              "1     53322\n",
              "Name: DEATH, dtype: int64"
            ]
          },
          "metadata": {},
          "execution_count": 48
        }
      ]
    },
    {
      "cell_type": "code",
      "source": [
        "#Import preprocessing modules\n",
        "from sklearn.preprocessing import StandardScaler\n",
        "from sklearn.model_selection import train_test_split"
      ],
      "metadata": {
        "id": "w6Ct6FeunjI6"
      },
      "execution_count": 49,
      "outputs": []
    },
    {
      "cell_type": "code",
      "source": [
        "#Split target from features\n",
        "X = df.drop('DEATH', axis=1)\n",
        "y = df['DEATH']"
      ],
      "metadata": {
        "id": "CESVvFciqUlw"
      },
      "execution_count": 50,
      "outputs": []
    },
    {
      "cell_type": "code",
      "source": [
        "# Standardize the input variables to have zero mean and unit variance\n",
        "scaler = StandardScaler()\n",
        "X = scaler.fit_transform(X)"
      ],
      "metadata": {
        "id": "TKluN9BqFnUW"
      },
      "execution_count": 51,
      "outputs": []
    },
    {
      "cell_type": "code",
      "source": [
        "# Split the data into training and test sets\n",
        "X_train, X_test, y_train, y_test = train_test_split(X, y, test_size=0.2, random_state=42)"
      ],
      "metadata": {
        "id": "T9Xo01J3qUjZ"
      },
      "execution_count": 52,
      "outputs": []
    },
    {
      "cell_type": "code",
      "source": [
        "#Import LogisticRegression Model\n",
        "from sklearn.linear_model import LogisticRegression"
      ],
      "metadata": {
        "id": "LHS0o-oMqUhl"
      },
      "execution_count": 53,
      "outputs": []
    },
    {
      "cell_type": "code",
      "source": [
        "# Create a logistic regression model and fit it to the training data\n",
        "model = LogisticRegression()\n",
        "model.fit(X_train, y_train.values.ravel())"
      ],
      "metadata": {
        "id": "qVgshteSqUfq",
        "colab": {
          "base_uri": "https://localhost:8080/",
          "height": 75
        },
        "outputId": "8520046d-f555-410b-94ff-48bbedffef78"
      },
      "execution_count": 54,
      "outputs": [
        {
          "output_type": "execute_result",
          "data": {
            "text/plain": [
              "LogisticRegression()"
            ],
            "text/html": [
              "<style>#sk-container-id-1 {color: black;background-color: white;}#sk-container-id-1 pre{padding: 0;}#sk-container-id-1 div.sk-toggleable {background-color: white;}#sk-container-id-1 label.sk-toggleable__label {cursor: pointer;display: block;width: 100%;margin-bottom: 0;padding: 0.3em;box-sizing: border-box;text-align: center;}#sk-container-id-1 label.sk-toggleable__label-arrow:before {content: \"▸\";float: left;margin-right: 0.25em;color: #696969;}#sk-container-id-1 label.sk-toggleable__label-arrow:hover:before {color: black;}#sk-container-id-1 div.sk-estimator:hover label.sk-toggleable__label-arrow:before {color: black;}#sk-container-id-1 div.sk-toggleable__content {max-height: 0;max-width: 0;overflow: hidden;text-align: left;background-color: #f0f8ff;}#sk-container-id-1 div.sk-toggleable__content pre {margin: 0.2em;color: black;border-radius: 0.25em;background-color: #f0f8ff;}#sk-container-id-1 input.sk-toggleable__control:checked~div.sk-toggleable__content {max-height: 200px;max-width: 100%;overflow: auto;}#sk-container-id-1 input.sk-toggleable__control:checked~label.sk-toggleable__label-arrow:before {content: \"▾\";}#sk-container-id-1 div.sk-estimator input.sk-toggleable__control:checked~label.sk-toggleable__label {background-color: #d4ebff;}#sk-container-id-1 div.sk-label input.sk-toggleable__control:checked~label.sk-toggleable__label {background-color: #d4ebff;}#sk-container-id-1 input.sk-hidden--visually {border: 0;clip: rect(1px 1px 1px 1px);clip: rect(1px, 1px, 1px, 1px);height: 1px;margin: -1px;overflow: hidden;padding: 0;position: absolute;width: 1px;}#sk-container-id-1 div.sk-estimator {font-family: monospace;background-color: #f0f8ff;border: 1px dotted black;border-radius: 0.25em;box-sizing: border-box;margin-bottom: 0.5em;}#sk-container-id-1 div.sk-estimator:hover {background-color: #d4ebff;}#sk-container-id-1 div.sk-parallel-item::after {content: \"\";width: 100%;border-bottom: 1px solid gray;flex-grow: 1;}#sk-container-id-1 div.sk-label:hover label.sk-toggleable__label {background-color: #d4ebff;}#sk-container-id-1 div.sk-serial::before {content: \"\";position: absolute;border-left: 1px solid gray;box-sizing: border-box;top: 0;bottom: 0;left: 50%;z-index: 0;}#sk-container-id-1 div.sk-serial {display: flex;flex-direction: column;align-items: center;background-color: white;padding-right: 0.2em;padding-left: 0.2em;position: relative;}#sk-container-id-1 div.sk-item {position: relative;z-index: 1;}#sk-container-id-1 div.sk-parallel {display: flex;align-items: stretch;justify-content: center;background-color: white;position: relative;}#sk-container-id-1 div.sk-item::before, #sk-container-id-1 div.sk-parallel-item::before {content: \"\";position: absolute;border-left: 1px solid gray;box-sizing: border-box;top: 0;bottom: 0;left: 50%;z-index: -1;}#sk-container-id-1 div.sk-parallel-item {display: flex;flex-direction: column;z-index: 1;position: relative;background-color: white;}#sk-container-id-1 div.sk-parallel-item:first-child::after {align-self: flex-end;width: 50%;}#sk-container-id-1 div.sk-parallel-item:last-child::after {align-self: flex-start;width: 50%;}#sk-container-id-1 div.sk-parallel-item:only-child::after {width: 0;}#sk-container-id-1 div.sk-dashed-wrapped {border: 1px dashed gray;margin: 0 0.4em 0.5em 0.4em;box-sizing: border-box;padding-bottom: 0.4em;background-color: white;}#sk-container-id-1 div.sk-label label {font-family: monospace;font-weight: bold;display: inline-block;line-height: 1.2em;}#sk-container-id-1 div.sk-label-container {text-align: center;}#sk-container-id-1 div.sk-container {/* jupyter's `normalize.less` sets `[hidden] { display: none; }` but bootstrap.min.css set `[hidden] { display: none !important; }` so we also need the `!important` here to be able to override the default hidden behavior on the sphinx rendered scikit-learn.org. See: https://github.com/scikit-learn/scikit-learn/issues/21755 */display: inline-block !important;position: relative;}#sk-container-id-1 div.sk-text-repr-fallback {display: none;}</style><div id=\"sk-container-id-1\" class=\"sk-top-container\"><div class=\"sk-text-repr-fallback\"><pre>LogisticRegression()</pre><b>In a Jupyter environment, please rerun this cell to show the HTML representation or trust the notebook. <br />On GitHub, the HTML representation is unable to render, please try loading this page with nbviewer.org.</b></div><div class=\"sk-container\" hidden><div class=\"sk-item\"><div class=\"sk-estimator sk-toggleable\"><input class=\"sk-toggleable__control sk-hidden--visually\" id=\"sk-estimator-id-1\" type=\"checkbox\" checked><label for=\"sk-estimator-id-1\" class=\"sk-toggleable__label sk-toggleable__label-arrow\">LogisticRegression</label><div class=\"sk-toggleable__content\"><pre>LogisticRegression()</pre></div></div></div></div></div>"
            ]
          },
          "metadata": {},
          "execution_count": 54
        }
      ]
    },
    {
      "cell_type": "code",
      "source": [
        "# Evaluate the model on the test data\n",
        "score = model.score(X_test, y_test.values.ravel())"
      ],
      "metadata": {
        "id": "ow2FL2TiqUcS"
      },
      "execution_count": 55,
      "outputs": []
    },
    {
      "cell_type": "code",
      "source": [
        "# Print the accuracy score of the model\n",
        "print('Accuracy:', score)"
      ],
      "metadata": {
        "id": "_uUrAZPSq73a",
        "colab": {
          "base_uri": "https://localhost:8080/"
        },
        "outputId": "182403ad-0ad5-47c2-851d-3ffd129208aa"
      },
      "execution_count": 56,
      "outputs": [
        {
          "output_type": "stream",
          "name": "stdout",
          "text": [
            "Accuracy: 0.8952012383900929\n"
          ]
        }
      ]
    },
    {
      "cell_type": "code",
      "source": [],
      "metadata": {
        "id": "N-m-CZuus3Ic"
      },
      "execution_count": null,
      "outputs": []
    }
  ]
}